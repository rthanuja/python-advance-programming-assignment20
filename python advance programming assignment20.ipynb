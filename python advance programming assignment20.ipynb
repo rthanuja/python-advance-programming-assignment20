{
 "cells": [
  {
   "cell_type": "code",
   "execution_count": 1,
   "id": "531823c9",
   "metadata": {},
   "outputs": [],
   "source": [
    "#1. Create a function based on the input and output.\n",
    "def secret(s):\n",
    "    s=s.replace(\".\",\" \")\n",
    "    s=\"<p class='{}'></p>\".format(s[2:])\n",
    "    return s"
   ]
  },
  {
   "cell_type": "code",
   "execution_count": 2,
   "id": "6abb4230",
   "metadata": {},
   "outputs": [
    {
     "data": {
      "text/plain": [
       "\"<p class='one two three'></p>\""
      ]
     },
     "execution_count": 2,
     "metadata": {},
     "output_type": "execute_result"
    }
   ],
   "source": [
    "secret(\"p.one.two.three\")"
   ]
  },
  {
   "cell_type": "code",
   "execution_count": 3,
   "id": "c445ef3a",
   "metadata": {},
   "outputs": [
    {
     "data": {
      "text/plain": [
       "\"<p class='one'></p>\""
      ]
     },
     "execution_count": 3,
     "metadata": {},
     "output_type": "execute_result"
    }
   ],
   "source": [
    "secret(\"p.one\")"
   ]
  },
  {
   "cell_type": "code",
   "execution_count": 4,
   "id": "245959cb",
   "metadata": {},
   "outputs": [
    {
     "data": {
      "text/plain": [
       "\"<p class='four five'></p>\""
      ]
     },
     "execution_count": 4,
     "metadata": {},
     "output_type": "execute_result"
    }
   ],
   "source": [
    "secret(\"p.four.five\")"
   ]
  },
  {
   "cell_type": "code",
   "execution_count": 5,
   "id": "cc74fa02",
   "metadata": {},
   "outputs": [],
   "source": [
    "'''2. Create a function which counts how many lone 1s appear in a given number. Lone means the number doesn't appear\n",
    "twice or more in a row.'''\n",
    "import re\n",
    "def count_lone_ones(n):\n",
    "    c=0\n",
    "    d=re.findall(r'1+',str(n))\n",
    "    for i in d:\n",
    "        if len(i)==1:\n",
    "            c+=1\n",
    "    return c       "
   ]
  },
  {
   "cell_type": "code",
   "execution_count": 6,
   "id": "93bbcfbc",
   "metadata": {},
   "outputs": [
    {
     "data": {
      "text/plain": [
       "2"
      ]
     },
     "execution_count": 6,
     "metadata": {},
     "output_type": "execute_result"
    }
   ],
   "source": [
    "count_lone_ones(101)"
   ]
  },
  {
   "cell_type": "code",
   "execution_count": 7,
   "id": "2c3f8072",
   "metadata": {},
   "outputs": [
    {
     "data": {
      "text/plain": [
       "1"
      ]
     },
     "execution_count": 7,
     "metadata": {},
     "output_type": "execute_result"
    }
   ],
   "source": [
    "count_lone_ones(1191)"
   ]
  },
  {
   "cell_type": "code",
   "execution_count": 8,
   "id": "e59ca81f",
   "metadata": {},
   "outputs": [
    {
     "data": {
      "text/plain": [
       "0"
      ]
     },
     "execution_count": 8,
     "metadata": {},
     "output_type": "execute_result"
    }
   ],
   "source": [
    "count_lone_ones(1111)"
   ]
  },
  {
   "cell_type": "code",
   "execution_count": 9,
   "id": "eab3ec07",
   "metadata": {},
   "outputs": [
    {
     "data": {
      "text/plain": [
       "0"
      ]
     },
     "execution_count": 9,
     "metadata": {},
     "output_type": "execute_result"
    }
   ],
   "source": [
    "count_lone_ones(462)"
   ]
  },
  {
   "cell_type": "code",
   "execution_count": 10,
   "id": "296f4f1f",
   "metadata": {},
   "outputs": [],
   "source": [
    "'''3. Write a method that accepts two integer parameters rows and cols. The output is a 2d array of numbers displayed in \n",
    "column-major order, meaning the numbers shown increase sequentially down each column and wrap to the top of the next column\n",
    "to the right once the bottom of the current column is reached.'''\n",
    "def printgrid(r,c):\n",
    "    g=[]\n",
    "    for i in range(1,r+1):\n",
    "        l=[]\n",
    "        w=i\n",
    "        for j in range(c):\n",
    "            l.append(w)\n",
    "            w+=r\n",
    "        g.append(l)\n",
    "    return g"
   ]
  },
  {
   "cell_type": "code",
   "execution_count": 11,
   "id": "50ae040e",
   "metadata": {},
   "outputs": [
    {
     "data": {
      "text/plain": [
       "[[1, 4, 7, 10, 13, 16], [2, 5, 8, 11, 14, 17], [3, 6, 9, 12, 15, 18]]"
      ]
     },
     "execution_count": 11,
     "metadata": {},
     "output_type": "execute_result"
    }
   ],
   "source": [
    "printgrid(3,6)"
   ]
  },
  {
   "cell_type": "code",
   "execution_count": 12,
   "id": "a7d8437a",
   "metadata": {},
   "outputs": [
    {
     "data": {
      "text/plain": [
       "[[1, 6, 11], [2, 7, 12], [3, 8, 13], [4, 9, 14], [5, 10, 15]]"
      ]
     },
     "execution_count": 12,
     "metadata": {},
     "output_type": "execute_result"
    }
   ],
   "source": [
    "printgrid(5,3)"
   ]
  },
  {
   "cell_type": "code",
   "execution_count": 13,
   "id": "83b91499",
   "metadata": {},
   "outputs": [
    {
     "data": {
      "text/plain": [
       "[[1], [2], [3], [4]]"
      ]
     },
     "execution_count": 13,
     "metadata": {},
     "output_type": "execute_result"
    }
   ],
   "source": [
    "printgrid(4,1)"
   ]
  },
  {
   "cell_type": "code",
   "execution_count": 14,
   "id": "6a6d1e07",
   "metadata": {},
   "outputs": [],
   "source": [
    "'''4.Given a list of integers,return the smallest positive integer not present in the list.Here is a representative example. \n",
    "Consider the list:[-2, 6, 4, 5, 7, -1, 7, 1, 3, 6, 6, -2, 9, 10, 2, 2]\n",
    "After reordering, the list becomes:[-2, -2, -1, 1, 2, 2, 3, 4, 5, 6, 6, 6, 7, 7, 9, 10]\n",
    "from which we see that the smallest missing positive integer is 8.'''\n",
    "def min_miss_pos(l):\n",
    "    for i in range(1,max(l)):\n",
    "        if i not in set(l):\n",
    "            return i            "
   ]
  },
  {
   "cell_type": "code",
   "execution_count": 15,
   "id": "976a54f2",
   "metadata": {},
   "outputs": [
    {
     "data": {
      "text/plain": [
       "8"
      ]
     },
     "execution_count": 15,
     "metadata": {},
     "output_type": "execute_result"
    }
   ],
   "source": [
    "min_miss_pos([-2, 6, 4, 5, 7, -1, 1, 3, 6, -2, 9, 10, 2, 2])"
   ]
  },
  {
   "cell_type": "code",
   "execution_count": 16,
   "id": "13216331",
   "metadata": {},
   "outputs": [
    {
     "data": {
      "text/plain": [
       "2"
      ]
     },
     "execution_count": 16,
     "metadata": {},
     "output_type": "execute_result"
    }
   ],
   "source": [
    "min_miss_pos([5, 9, -2, 0, 1, 3, 9, 3, 8, 9])"
   ]
  },
  {
   "cell_type": "code",
   "execution_count": 17,
   "id": "0044d08c",
   "metadata": {},
   "outputs": [
    {
     "data": {
      "text/plain": [
       "1"
      ]
     },
     "execution_count": 17,
     "metadata": {},
     "output_type": "execute_result"
    }
   ],
   "source": [
    "min_miss_pos([0, 4, 4, -1, 9, 4, 5, 2, 10, 7, 6, 3, 10, 9])"
   ]
  },
  {
   "cell_type": "code",
   "execution_count": 18,
   "id": "8fd59712",
   "metadata": {},
   "outputs": [],
   "source": [
    "'''5. Google is launching a network of autonomous pizza delivery drones and wants you to create a flexible rewards system \n",
    "(Pizza Points™) that can be tweaked in the future. The rules are simple: if a customer has made at least N orders of at least\n",
    "Y price, they get a FREE pizza!Create a function that takes a dictionary of customers, a minimum number of orders and a \n",
    "minimum order price. Return a list of customers that are eligible for a free pizza.'''\n",
    "def pizza_points(d,n,c):\n",
    "    f=0\n",
    "    l=[]\n",
    "    for i in d:\n",
    "        for j in d[i]:\n",
    "            if j>=c:\n",
    "                f+=1\n",
    "        if f>=n:\n",
    "            l.append(i)\n",
    "    return l    "
   ]
  },
  {
   "cell_type": "code",
   "execution_count": 19,
   "id": "29f91013",
   "metadata": {},
   "outputs": [
    {
     "data": {
      "text/plain": [
       "['Spider-Man']"
      ]
     },
     "execution_count": 19,
     "metadata": {},
     "output_type": "execute_result"
    }
   ],
   "source": [
    "pizza_points({\"Batman\": [22, 30, 11, 17, 15, 52, 27, 12],\n",
    "\"Spider-Man\": [5, 17, 30, 33, 40, 22, 26, 10, 11, 45]\n",
    "}, 5, 20)"
   ]
  },
  {
   "cell_type": "code",
   "execution_count": 20,
   "id": "acb7b28f",
   "metadata": {},
   "outputs": [
    {
     "data": {
      "text/plain": [
       "['Batman', 'Spider-Man']"
      ]
     },
     "execution_count": 20,
     "metadata": {},
     "output_type": "execute_result"
    }
   ],
   "source": [
    "pizza_points({\"Batman\": [22, 30, 11, 17, 15, 52, 27, 12],\n",
    "\"Spider-Man\": [5, 17, 30, 33, 40, 22, 26, 10, 11, 45]\n",
    "}, 3, 10)"
   ]
  },
  {
   "cell_type": "code",
   "execution_count": 21,
   "id": "ac24a480",
   "metadata": {},
   "outputs": [
    {
     "data": {
      "text/plain": [
       "[]"
      ]
     },
     "execution_count": 21,
     "metadata": {},
     "output_type": "execute_result"
    }
   ],
   "source": [
    "pizza_points({\"Batman\": [22, 30, 11, 17, 15, 52, 27, 12],\n",
    "\"Spider-Man\": [5, 17, 30, 33, 40, 22, 26, 10, 11, 45]\n",
    "}, 5, 100)"
   ]
  }
 ],
 "metadata": {
  "kernelspec": {
   "display_name": "Python 3 (ipykernel)",
   "language": "python",
   "name": "python3"
  },
  "language_info": {
   "codemirror_mode": {
    "name": "ipython",
    "version": 3
   },
   "file_extension": ".py",
   "mimetype": "text/x-python",
   "name": "python",
   "nbconvert_exporter": "python",
   "pygments_lexer": "ipython3",
   "version": "3.10.9"
  }
 },
 "nbformat": 4,
 "nbformat_minor": 5
}
